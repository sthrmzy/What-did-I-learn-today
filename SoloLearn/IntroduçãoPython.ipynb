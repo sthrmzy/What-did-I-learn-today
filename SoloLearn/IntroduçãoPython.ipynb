{
  "nbformat": 4,
  "nbformat_minor": 0,
  "metadata": {
    "colab": {
      "provenance": []
    },
    "kernelspec": {
      "name": "python3",
      "display_name": "Python 3"
    },
    "language_info": {
      "name": "python"
    }
  },
  "cells": [
    {
      "cell_type": "code",
      "execution_count": null,
      "metadata": {
        "id": "3_WdykvRwnCN"
      },
      "outputs": [],
      "source": []
    },
    {
      "cell_type": "markdown",
      "source": [
        "# Introdução python"
      ],
      "metadata": {
        "id": "W9D7W8eYwnpA"
      }
    },
    {
      "cell_type": "markdown",
      "source": [
        "### Imprimir algo no terminal"
      ],
      "metadata": {
        "id": "_A9aysiVwtDI"
      }
    },
    {
      "cell_type": "code",
      "source": [
        "#palavras\n",
        "print(\"Welcome\")\n",
        "\n",
        "#números\n",
        "print( 360 )\n",
        "\n",
        "#variáveis\n",
        "budget = 200\n",
        "print(budget)\n",
        "\n",
        "username = \"magician\"\n",
        "points = 50\n",
        "lives = 3\n",
        "print(username)\n",
        "print(points)\n",
        "\n",
        "#quando tiver duas viaveis iguais ele só ira printar a ultima como se fosse uma atualização\n",
        "points = 35\n",
        "points = 45\n",
        "print(points)"
      ],
      "metadata": {
        "colab": {
          "base_uri": "https://localhost:8080/"
        },
        "id": "aREwaonlwxnI",
        "outputId": "692342a2-2c12-4a79-e672-57f74962b4b7"
      },
      "execution_count": 7,
      "outputs": [
        {
          "output_type": "stream",
          "name": "stdout",
          "text": [
            "Welcome\n",
            "360\n",
            "200\n",
            "magician\n",
            "50\n",
            "45\n"
          ]
        }
      ]
    },
    {
      "cell_type": "markdown",
      "source": [
        "### Variáveis"
      ],
      "metadata": {
        "id": "fP-b39gzw42X"
      }
    },
    {
      "cell_type": "code",
      "source": [
        "#variable name: item\n",
        "#variable value: bike\n",
        "\n",
        "item = \"bike\"\n",
        "\n",
        "#outro exemplo\n",
        "\n",
        "book = \"The Hobbit\"\n",
        "pages = 310"
      ],
      "metadata": {
        "id": "CErFS9Vlw7bP"
      },
      "execution_count": 3,
      "outputs": []
    },
    {
      "cell_type": "markdown",
      "source": [
        "### Operações"
      ],
      "metadata": {
        "id": "gLh42qA0xpbw"
      }
    },
    {
      "cell_type": "code",
      "source": [
        "print (7 + 3)\n",
        "\n",
        "print (7 - 3)\n",
        "\n",
        "print (7 * 3)\n",
        "\n",
        "print (7 / 3)\n",
        "\n",
        "\n",
        "budget = 20\n",
        "print(budget + 10)\n",
        "\n",
        "\n",
        "price = 5\n",
        "amount = 3\n",
        "print(price * amount)\n",
        "\n",
        "score = 7 + 8\n",
        "print(score)\n",
        "\n",
        "\n"
      ],
      "metadata": {
        "colab": {
          "base_uri": "https://localhost:8080/"
        },
        "id": "C-aLnayLxrbA",
        "outputId": "26528fbb-3ade-4043-b1e4-fff823384c82"
      },
      "execution_count": 4,
      "outputs": [
        {
          "output_type": "stream",
          "name": "stdout",
          "text": [
            "10\n",
            "4\n",
            "21\n",
            "2.3333333333333335\n"
          ]
        }
      ]
    },
    {
      "cell_type": "markdown",
      "source": [],
      "metadata": {
        "id": "T97vARclx8hQ"
      }
    },
    {
      "cell_type": "markdown",
      "source": [
        "### Treinamento"
      ],
      "metadata": {
        "id": "nb7sdNnJy0SH"
      }
    },
    {
      "cell_type": "code",
      "source": [
        "name = \"Tom\"\n",
        "level = 14\n",
        "print(name)\n",
        "level = level + 1\n",
        "print(level)"
      ],
      "metadata": {
        "colab": {
          "base_uri": "https://localhost:8080/"
        },
        "id": "NQ86S1Xiy10f",
        "outputId": "82545ebb-c7f2-4ab2-8baa-9965b2b0439e"
      },
      "execution_count": 8,
      "outputs": [
        {
          "output_type": "stream",
          "name": "stdout",
          "text": [
            "Tom\n",
            "15\n"
          ]
        }
      ]
    },
    {
      "cell_type": "code",
      "source": [
        "band = \"Beatles\"\n",
        "song = \"Yesterday\"\n",
        "song = \"Let it be\"\n",
        "print(song)"
      ],
      "metadata": {
        "colab": {
          "base_uri": "https://localhost:8080/"
        },
        "id": "OgVgUA7GAHch",
        "outputId": "1912a67c-6db0-4d1a-eb0b-241cf72d2a41"
      },
      "execution_count": 9,
      "outputs": [
        {
          "output_type": "stream",
          "name": "stdout",
          "text": [
            "Let it be\n"
          ]
        }
      ]
    }
  ]
}
